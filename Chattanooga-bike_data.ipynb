{
 "cells": [
  {
   "cell_type": "code",
   "execution_count": 2,
   "id": "177e01fa-1cfd-4670-966f-2b45a469e9dd",
   "metadata": {
    "tags": []
   },
   "outputs": [
    {
     "data": {
      "text/html": [
       "<div>\n",
       "<style scoped>\n",
       "    .dataframe tbody tr th:only-of-type {\n",
       "        vertical-align: middle;\n",
       "    }\n",
       "\n",
       "    .dataframe tbody tr th {\n",
       "        vertical-align: top;\n",
       "    }\n",
       "\n",
       "    .dataframe thead th {\n",
       "        text-align: right;\n",
       "    }\n",
       "</style>\n",
       "<table border=\"1\" class=\"dataframe\">\n",
       "  <thead>\n",
       "    <tr style=\"text-align: right;\">\n",
       "      <th></th>\n",
       "      <th>Member Type</th>\n",
       "      <th>BikeID</th>\n",
       "      <th>Start Station Name</th>\n",
       "      <th>Start Station ID</th>\n",
       "      <th>Start Location</th>\n",
       "      <th>End Time</th>\n",
       "      <th>End Station Name</th>\n",
       "      <th>End Station ID</th>\n",
       "      <th>End Location</th>\n",
       "      <th>TripDurationMin</th>\n",
       "    </tr>\n",
       "    <tr>\n",
       "      <th>Start Time</th>\n",
       "      <th></th>\n",
       "      <th></th>\n",
       "      <th></th>\n",
       "      <th></th>\n",
       "      <th></th>\n",
       "      <th></th>\n",
       "      <th></th>\n",
       "      <th></th>\n",
       "      <th></th>\n",
       "      <th></th>\n",
       "    </tr>\n",
       "  </thead>\n",
       "  <tbody>\n",
       "    <tr>\n",
       "      <th>2016-06-24 20:58:00</th>\n",
       "      <td>Customer</td>\n",
       "      <td>C00174</td>\n",
       "      <td>1216 Broad St</td>\n",
       "      <td>1349</td>\n",
       "      <td>POINT (-85.309554 35.040549)</td>\n",
       "      <td>06/24/2016 09:10:00 PM</td>\n",
       "      <td>1216 Broad St</td>\n",
       "      <td>1349.0</td>\n",
       "      <td>POINT (-85.309554 35.040549)</td>\n",
       "      <td>11.75</td>\n",
       "    </tr>\n",
       "    <tr>\n",
       "      <th>2014-12-29 16:32:00</th>\n",
       "      <td>Customer</td>\n",
       "      <td>C00176</td>\n",
       "      <td>100 Walnut St</td>\n",
       "      <td>1319</td>\n",
       "      <td>POINT (-85.307813 35.055687)</td>\n",
       "      <td>12/29/2014 05:24:00 PM</td>\n",
       "      <td>100 Walnut St</td>\n",
       "      <td>1319.0</td>\n",
       "      <td>POINT (-85.307813 35.055687)</td>\n",
       "      <td>52.55</td>\n",
       "    </tr>\n",
       "    <tr>\n",
       "      <th>2014-03-14 15:47:00</th>\n",
       "      <td>Customer</td>\n",
       "      <td>LN1</td>\n",
       "      <td>LN1</td>\n",
       "      <td>1426</td>\n",
       "      <td>NaN</td>\n",
       "      <td>03/14/2014 03:48:00 PM</td>\n",
       "      <td>LN1</td>\n",
       "      <td>1426.0</td>\n",
       "      <td>NaN</td>\n",
       "      <td>0.20</td>\n",
       "    </tr>\n",
       "    <tr>\n",
       "      <th>2016-08-08 11:13:00</th>\n",
       "      <td>Customer</td>\n",
       "      <td>C00035</td>\n",
       "      <td>100 Manufacturers Rd</td>\n",
       "      <td>1297</td>\n",
       "      <td>POINT (-85.2821 35.0426)</td>\n",
       "      <td>08/08/2016 11:54:00 AM</td>\n",
       "      <td>NaN</td>\n",
       "      <td>NaN</td>\n",
       "      <td>NaN</td>\n",
       "      <td>41.12</td>\n",
       "    </tr>\n",
       "    <tr>\n",
       "      <th>2014-04-13 14:58:00</th>\n",
       "      <td>Customer</td>\n",
       "      <td>C00064</td>\n",
       "      <td>100 Walnut St</td>\n",
       "      <td>1319</td>\n",
       "      <td>POINT (-85.307813 35.055687)</td>\n",
       "      <td>04/13/2014 03:51:00 PM</td>\n",
       "      <td>100 Walnut St</td>\n",
       "      <td>1319.0</td>\n",
       "      <td>POINT (-85.307813 35.055687)</td>\n",
       "      <td>53.62</td>\n",
       "    </tr>\n",
       "    <tr>\n",
       "      <th>...</th>\n",
       "      <td>...</td>\n",
       "      <td>...</td>\n",
       "      <td>...</td>\n",
       "      <td>...</td>\n",
       "      <td>...</td>\n",
       "      <td>...</td>\n",
       "      <td>...</td>\n",
       "      <td>...</td>\n",
       "      <td>...</td>\n",
       "      <td>...</td>\n",
       "    </tr>\n",
       "    <tr>\n",
       "      <th>2021-03-26 22:36:00</th>\n",
       "      <td>Customer</td>\n",
       "      <td>P27274</td>\n",
       "      <td>North Market</td>\n",
       "      <td>1437</td>\n",
       "      <td>POINT (-85.309093 35.066155)</td>\n",
       "      <td>03/26/2021 11:24:00 PM</td>\n",
       "      <td>100 Walnut St</td>\n",
       "      <td>1319.0</td>\n",
       "      <td>POINT (-85.307813 35.055687)</td>\n",
       "      <td>48.00</td>\n",
       "    </tr>\n",
       "    <tr>\n",
       "      <th>2021-03-26 23:25:00</th>\n",
       "      <td>Customer</td>\n",
       "      <td>P27274</td>\n",
       "      <td>100 Walnut St</td>\n",
       "      <td>1319</td>\n",
       "      <td>POINT (-85.307813 35.055687)</td>\n",
       "      <td>03/26/2021 11:58:00 PM</td>\n",
       "      <td>200 River St Outdoor Chattanooga</td>\n",
       "      <td>1299.0</td>\n",
       "      <td>POINT (-85.306574 35.06141)</td>\n",
       "      <td>33.00</td>\n",
       "    </tr>\n",
       "    <tr>\n",
       "      <th>2021-03-27 00:59:00</th>\n",
       "      <td>Customer</td>\n",
       "      <td>P27274</td>\n",
       "      <td>200 River St Outdoor Chattanooga</td>\n",
       "      <td>1299</td>\n",
       "      <td>POINT (-85.306574 35.06141)</td>\n",
       "      <td>03/27/2021 02:13:00 AM</td>\n",
       "      <td>200 River St Outdoor Chattanooga</td>\n",
       "      <td>1299.0</td>\n",
       "      <td>POINT (-85.306574 35.06141)</td>\n",
       "      <td>74.00</td>\n",
       "    </tr>\n",
       "    <tr>\n",
       "      <th>2021-03-28 14:04:00</th>\n",
       "      <td>Customer</td>\n",
       "      <td>P27274</td>\n",
       "      <td>200 River St Outdoor Chattanooga</td>\n",
       "      <td>1299</td>\n",
       "      <td>POINT (-85.306574 35.06141)</td>\n",
       "      <td>03/28/2021 02:05:00 PM</td>\n",
       "      <td>200 River St Outdoor Chattanooga</td>\n",
       "      <td>1299.0</td>\n",
       "      <td>POINT (-85.306574 35.06141)</td>\n",
       "      <td>1.00</td>\n",
       "    </tr>\n",
       "    <tr>\n",
       "      <th>2021-03-28 14:07:00</th>\n",
       "      <td>Customer</td>\n",
       "      <td>P27274</td>\n",
       "      <td>200 River St Outdoor Chattanooga</td>\n",
       "      <td>1299</td>\n",
       "      <td>POINT (-85.306574 35.06141)</td>\n",
       "      <td>03/28/2021 02:31:00 PM</td>\n",
       "      <td>Chestnut St &amp; Riverfront Pkwy</td>\n",
       "      <td>1313.0</td>\n",
       "      <td>POINT (-85.310487 35.056655)</td>\n",
       "      <td>24.00</td>\n",
       "    </tr>\n",
       "  </tbody>\n",
       "</table>\n",
       "<p>527443 rows × 10 columns</p>\n",
       "</div>"
      ],
      "text/plain": [
       "                    Member Type  BikeID                Start Station Name  \\\n",
       "Start Time                                                                  \n",
       "2016-06-24 20:58:00    Customer  C00174                     1216 Broad St   \n",
       "2014-12-29 16:32:00    Customer  C00176                     100 Walnut St   \n",
       "2014-03-14 15:47:00    Customer     LN1                               LN1   \n",
       "2016-08-08 11:13:00    Customer  C00035              100 Manufacturers Rd   \n",
       "2014-04-13 14:58:00    Customer  C00064                     100 Walnut St   \n",
       "...                         ...     ...                               ...   \n",
       "2021-03-26 22:36:00    Customer  P27274                      North Market   \n",
       "2021-03-26 23:25:00    Customer  P27274                     100 Walnut St   \n",
       "2021-03-27 00:59:00    Customer  P27274  200 River St Outdoor Chattanooga   \n",
       "2021-03-28 14:04:00    Customer  P27274  200 River St Outdoor Chattanooga   \n",
       "2021-03-28 14:07:00    Customer  P27274  200 River St Outdoor Chattanooga   \n",
       "\n",
       "                     Start Station ID                Start Location  \\\n",
       "Start Time                                                            \n",
       "2016-06-24 20:58:00              1349  POINT (-85.309554 35.040549)   \n",
       "2014-12-29 16:32:00              1319  POINT (-85.307813 35.055687)   \n",
       "2014-03-14 15:47:00              1426                           NaN   \n",
       "2016-08-08 11:13:00              1297      POINT (-85.2821 35.0426)   \n",
       "2014-04-13 14:58:00              1319  POINT (-85.307813 35.055687)   \n",
       "...                               ...                           ...   \n",
       "2021-03-26 22:36:00              1437  POINT (-85.309093 35.066155)   \n",
       "2021-03-26 23:25:00              1319  POINT (-85.307813 35.055687)   \n",
       "2021-03-27 00:59:00              1299   POINT (-85.306574 35.06141)   \n",
       "2021-03-28 14:04:00              1299   POINT (-85.306574 35.06141)   \n",
       "2021-03-28 14:07:00              1299   POINT (-85.306574 35.06141)   \n",
       "\n",
       "                                   End Time                  End Station Name  \\\n",
       "Start Time                                                                      \n",
       "2016-06-24 20:58:00  06/24/2016 09:10:00 PM                     1216 Broad St   \n",
       "2014-12-29 16:32:00  12/29/2014 05:24:00 PM                     100 Walnut St   \n",
       "2014-03-14 15:47:00  03/14/2014 03:48:00 PM                               LN1   \n",
       "2016-08-08 11:13:00  08/08/2016 11:54:00 AM                               NaN   \n",
       "2014-04-13 14:58:00  04/13/2014 03:51:00 PM                     100 Walnut St   \n",
       "...                                     ...                               ...   \n",
       "2021-03-26 22:36:00  03/26/2021 11:24:00 PM                     100 Walnut St   \n",
       "2021-03-26 23:25:00  03/26/2021 11:58:00 PM  200 River St Outdoor Chattanooga   \n",
       "2021-03-27 00:59:00  03/27/2021 02:13:00 AM  200 River St Outdoor Chattanooga   \n",
       "2021-03-28 14:04:00  03/28/2021 02:05:00 PM  200 River St Outdoor Chattanooga   \n",
       "2021-03-28 14:07:00  03/28/2021 02:31:00 PM     Chestnut St & Riverfront Pkwy   \n",
       "\n",
       "                     End Station ID                  End Location  \\\n",
       "Start Time                                                          \n",
       "2016-06-24 20:58:00          1349.0  POINT (-85.309554 35.040549)   \n",
       "2014-12-29 16:32:00          1319.0  POINT (-85.307813 35.055687)   \n",
       "2014-03-14 15:47:00          1426.0                           NaN   \n",
       "2016-08-08 11:13:00             NaN                           NaN   \n",
       "2014-04-13 14:58:00          1319.0  POINT (-85.307813 35.055687)   \n",
       "...                             ...                           ...   \n",
       "2021-03-26 22:36:00          1319.0  POINT (-85.307813 35.055687)   \n",
       "2021-03-26 23:25:00          1299.0   POINT (-85.306574 35.06141)   \n",
       "2021-03-27 00:59:00          1299.0   POINT (-85.306574 35.06141)   \n",
       "2021-03-28 14:04:00          1299.0   POINT (-85.306574 35.06141)   \n",
       "2021-03-28 14:07:00          1313.0  POINT (-85.310487 35.056655)   \n",
       "\n",
       "                     TripDurationMin  \n",
       "Start Time                            \n",
       "2016-06-24 20:58:00            11.75  \n",
       "2014-12-29 16:32:00            52.55  \n",
       "2014-03-14 15:47:00             0.20  \n",
       "2016-08-08 11:13:00            41.12  \n",
       "2014-04-13 14:58:00            53.62  \n",
       "...                              ...  \n",
       "2021-03-26 22:36:00            48.00  \n",
       "2021-03-26 23:25:00            33.00  \n",
       "2021-03-27 00:59:00            74.00  \n",
       "2021-03-28 14:04:00             1.00  \n",
       "2021-03-28 14:07:00            24.00  \n",
       "\n",
       "[527443 rows x 10 columns]"
      ]
     },
     "execution_count": 2,
     "metadata": {},
     "output_type": "execute_result"
    }
   ],
   "source": [
    "import pandas as pd\n",
    "import matplotlib.pyplot as plt\n",
    "\n",
    "\n",
    "\n",
    "\n",
    "df = pd.read_csv('data/Bike_Chattanooga_Trip_Data.csv')\n",
    "df[\"Start Time\"] = df[\"Start Time\"].astype(\"datetime64\")\n",
    "df = df.set_index(\"Start Time\")\n",
    "\n",
    "df"
   ]
  },
  {
   "cell_type": "markdown",
   "id": "0942674a-3926-4727-9853-edbd590ed37f",
   "metadata": {},
   "source": [
    "# Code For Initial analysis no splitting under 2k TripDurationMin"
   ]
  },
  {
   "cell_type": "code",
   "execution_count": 4,
   "id": "18cb75ce-e9e0-4b72-8288-5802d8134141",
   "metadata": {
    "tags": []
   },
   "outputs": [
    {
     "data": {
      "text/plain": [
       "[<matplotlib.lines.Line2D at 0x7f4f186fa580>]"
      ]
     },
     "execution_count": 4,
     "metadata": {},
     "output_type": "execute_result"
    },
    {
     "data": {
      "image/png": "[encoded data removed]",
      "text/plain": [
       "<Figure size 864x720 with 1 Axes>"
      ]
     },
     "metadata": {
      "needs_background": "light"
     },
     "output_type": "display_data"
    }
   ],
   "source": [
    "plt.figure(figsize=(12,10))\n",
    "plt.xlabel(\"Date\")   \n",
    "plt.ylabel(\"Trip Duration Time\")\n",
    "plt.title(\"Trip Duration For Chattanooga Biking Data\")\n",
    "plt.ticklabel_format(style='plain')  \n",
    "plt.plot(df.index,df[\"TripDurationMin\"])"
   ]
  },
  {
   "cell_type": "markdown",
   "id": "5b9c2f24-d6d1-422d-80b6-15c69ced0c51",
   "metadata": {},
   "source": [
    "# Code for Customer Biking Data plotted for time-series using the Trip Duration"
   ]
  },
  {
   "cell_type": "code",
   "execution_count": 11,
   "id": "c66e15ad-bc00-4a95-9025-08fd9b4932ad",
   "metadata": {},
   "outputs": [
    {
     "data": {
      "text/plain": [
       "<BarContainer object of 526952 artists>"
      ]
     },
     "execution_count": 11,
     "metadata": {},
     "output_type": "execute_result"
    },
    {
     "data": {
      "image/png": "[encoded data removed]",
      "text/plain": [
       "<Figure size 864x720 with 1 Axes>"
      ]
     },
     "metadata": {
      "needs_background": "light"
     },
     "output_type": "display_data"
    }
   ],
   "source": [
    "under_bike_data_customer = df.loc[(df[\"TripDurationMin\"] <= 2000) & (df[\"Member Type\"] == \"Customer\")]\n",
    "\n",
    "\n",
    "plt.figure(figsize=(12,10))\n",
    "plt.xlabel(\"Date\")   \n",
    "plt.ylabel(\"Trip Duration Time\")\n",
    "plt.title(\"Trip Duration For Chattanooga Biking Data\")\n",
    "plt.ticklabel_format(style='plain')  \n",
    "plt.bar(under_bike_data_customer.index,under_bike_data_customer[\"TripDurationMin\"])"
   ]
  },
  {
   "cell_type": "markdown",
   "id": "a22e9c14-4d0c-4920-91bf-3157439f334f",
   "metadata": {},
   "source": [
    "# Code for Customer Biking Data plotted for time-series using the Trip Duration"
   ]
  },
  {
   "cell_type": "code",
   "execution_count": 8,
   "id": "9ef7e99b-3773-46cc-8524-227f21aef15b",
   "metadata": {},
   "outputs": [
    {
     "data": {
      "text/plain": [
       "<BarContainer object of 139554 artists>"
      ]
     },
     "execution_count": 8,
     "metadata": {},
     "output_type": "execute_result"
    },
    {
     "data": {
      "image/png": "[encoded data removed]",
      "text/plain": [
       "<Figure size 864x720 with 1 Axes>"
      ]
     },
     "metadata": {
      "needs_background": "light"
     },
     "output_type": "display_data"
    }
   ],
   "source": [
    "under_bike_data_member = df.loc[(df[\"TripDurationMin\"] <= 2000) & (df[\"Member Type\"] == \"Subscriber\")]\n",
    "\n",
    "\n",
    "plt.figure(figsize=(12,10))\n",
    "plt.xlabel(\"Date\")   \n",
    "plt.ylabel(\"Trip Duration Time\")\n",
    "plt.title(\"Trip Duration For Chattanooga Biking Data\")\n",
    "plt.ticklabel_format(style='plain')  \n",
    "plt.bar(under_bike_data_member.index,under_bike_data_member[\"TripDurationMin\"])"
   ]
  },
  {
   "cell_type": "code",
   "execution_count": null,
   "id": "b536c0cf-b7dc-4d21-bb6b-72c548108ed6",
   "metadata": {},
   "outputs": [],
   "source": []
  }
 ],
 "metadata": {
  "kernelspec": {
   "display_name": "Python 3 (ipykernel)",
   "language": "python",
   "name": "python3"
  },
  "language_info": {
   "codemirror_mode": {
    "name": "ipython",
    "version": 3
   },
   "file_extension": ".py",
   "mimetype": "text/x-python",
   "name": "python",
   "nbconvert_exporter": "python",
   "pygments_lexer": "ipython3",
   "version": "3.9.7"
  }
 },
 "nbformat": 4,
 "nbformat_minor": 5
}
